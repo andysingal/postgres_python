{
 "cells": [
  {
   "cell_type": "code",
   "execution_count": 11,
   "id": "0da6207c-65c4-4225-a4c3-dbacd2f62de0",
   "metadata": {},
   "outputs": [],
   "source": [
    "import psycopg2"
   ]
  },
  {
   "cell_type": "code",
   "execution_count": 12,
   "id": "f7847a57-9e2a-4ca6-8016-1873f57bdfe0",
   "metadata": {},
   "outputs": [],
   "source": [
    "try: \n",
    "    conn = psycopg2.connect(\"host=127.0.0.1 dbname=postgres user=postgres password=rasikanomi\")\n",
    "except psycopg2.Error as e: \n",
    "    print(\"Error: Could not make connection to the Postgres database\")\n",
    "    print(e)"
   ]
  },
  {
   "cell_type": "code",
   "execution_count": 13,
   "id": "7e2eda9a-98d7-4731-b06b-1acdacdc384e",
   "metadata": {},
   "outputs": [],
   "source": [
    "try: \n",
    "    cur = conn.cursor()\n",
    "except psycopg2.Error as e: \n",
    "    print(\"Error: Could not get curser to the Database\")\n",
    "    print(e)"
   ]
  },
  {
   "cell_type": "code",
   "execution_count": 14,
   "id": "9a4bafdd-1722-44e8-9241-8b8db3a6189b",
   "metadata": {},
   "outputs": [],
   "source": [
    "conn.set_session(autocommit=True)"
   ]
  },
  {
   "cell_type": "code",
   "execution_count": 16,
   "id": "073cde89-d5fb-4609-84b1-572e97f3e4fd",
   "metadata": {},
   "outputs": [
    {
     "name": "stdout",
     "output_type": "stream",
     "text": [
      "database \"myfirstdb\" already exists\n",
      "\n"
     ]
    }
   ],
   "source": [
    "try: \n",
    "    cur.execute(\"create database myfirstdb\")\n",
    "except psycopg2.Error as e:\n",
    "    print(e)"
   ]
  },
  {
   "cell_type": "markdown",
   "id": "a082830c-ca34-4ad2-9c1e-de9ad281bd12",
   "metadata": {},
   "source": [
    "Add the database name in the connect statement. Let's close our connection to the default database"
   ]
  },
  {
   "cell_type": "code",
   "execution_count": 17,
   "id": "69ae4e1b-8a6a-4e87-82cd-3e37f1245756",
   "metadata": {},
   "outputs": [],
   "source": [
    "try: \n",
    "    conn.close()\n",
    "except psycopg2.Error as e:\n",
    "    print(e)\n",
    "    \n",
    "try: \n",
    "    conn = psycopg2.connect(\"host=127.0.0.1 dbname=myfirstdb user=postgres password=rasikanomi\")\n",
    "except psycopg2.Error as e: \n",
    "    print(\"Error: Could not make connection to the Postgres database\")\n",
    "    print(e)\n",
    "    \n",
    "try: \n",
    "    cur = conn.cursor()\n",
    "except psycopg2.Error as e: \n",
    "    print(\"Error: Could not get curser to the Database\")\n",
    "    print(e)\n",
    "\n",
    "conn.set_session(autocommit=True)"
   ]
  },
  {
   "cell_type": "markdown",
   "id": "1395ed3a-d6f7-444c-861c-a6ba36694191",
   "metadata": {},
   "source": [
    "# Create Table for students which includes below columns\n",
    "student_id\n",
    "name\n",
    "age\n",
    "gender\n",
    "subject\n",
    "marks"
   ]
  },
  {
   "cell_type": "code",
   "execution_count": 18,
   "id": "2168a13b-2278-4772-9339-f1143290afc5",
   "metadata": {},
   "outputs": [],
   "source": [
    "try: \n",
    "    cur.execute(\"CREATE TABLE IF NOT EXISTS students (student_id int, name varchar,\\\n",
    "    age int, gender varchar, subject varchar, marks int);\")\n",
    "except psycopg2.Error as e: \n",
    "    print(\"Error: Issue creating table\")\n",
    "    print (e)"
   ]
  },
  {
   "cell_type": "markdown",
   "id": "71c58481-1310-44ea-a4b5-52509a9b13aa",
   "metadata": {},
   "source": [
    "# Insert the following two rows in the table\n",
    "First Row: 1, \"Raj\", 23, \"Male\", \"Python\", 85\n",
    "\n",
    "Second Row: 2, \"Priya\", 22, \"Female\", \"Python\", 86"
   ]
  },
  {
   "cell_type": "code",
   "execution_count": 19,
   "id": "6d2d143c-be24-4e2c-b562-84df73e3d7a2",
   "metadata": {},
   "outputs": [],
   "source": [
    "try: \n",
    "    cur.execute(\"INSERT INTO students (student_id, name, age, gender, subject, marks) \\\n",
    "                 VALUES (%s, %s, %s, %s, %s, %s)\", \\\n",
    "                 (1, \"Raj\", 23, \"Male\", \"Python\", 85))\n",
    "except psycopg2.Error as e: \n",
    "    print(\"Error: Inserting Rows\")\n",
    "    print (e)\n",
    "    \n",
    "try: \n",
    "    cur.execute(\"INSERT INTO students (student_id, name, age, gender, subject, marks) \\\n",
    "                  VALUES (%s, %s, %s, %s, %s, %s)\",\n",
    "                  ( 2, \"Priya\", 22, \"Female\", \"Python\", 86))\n",
    "except psycopg2.Error as e: \n",
    "    print(\"Error: Inserting Rows\")\n",
    "    print (e)"
   ]
  },
  {
   "cell_type": "markdown",
   "id": "163e902b-fa2e-4880-bf04-a4d11e15ea7a",
   "metadata": {},
   "source": [
    "# Validate your data was inserted into the table."
   ]
  },
  {
   "cell_type": "code",
   "execution_count": 20,
   "id": "98617e4c-b5f3-4f3e-ac43-f946d5cb52e9",
   "metadata": {},
   "outputs": [
    {
     "name": "stdout",
     "output_type": "stream",
     "text": [
      "(1, 'Raj', 23, 'Male', 'Python', 85)\n",
      "(2, 'Priya', 22, 'Female', 'Python', 86)\n"
     ]
    }
   ],
   "source": [
    "try: \n",
    "    cur.execute(\"SELECT * FROM students;\")\n",
    "except psycopg2.Error as e: \n",
    "    print(\"Error: select *\")\n",
    "    print (e)\n",
    "\n",
    "row = cur.fetchone()\n",
    "while row:\n",
    "    print(row)\n",
    "    row = cur.fetchone()"
   ]
  },
  {
   "cell_type": "code",
   "execution_count": 21,
   "id": "6af93ac9-f218-437a-8900-718df8fe1db3",
   "metadata": {},
   "outputs": [],
   "source": [
    "cur.close()\n",
    "conn.close()"
   ]
  },
  {
   "cell_type": "code",
   "execution_count": null,
   "id": "307ffa41-db08-415b-a5f3-40e9b456c0fd",
   "metadata": {},
   "outputs": [],
   "source": []
  }
 ],
 "metadata": {
  "kernelspec": {
   "display_name": "python-cvcourse2",
   "language": "python",
   "name": "python-cvcourse2"
  },
  "language_info": {
   "codemirror_mode": {
    "name": "ipython",
    "version": 3
   },
   "file_extension": ".py",
   "mimetype": "text/x-python",
   "name": "python",
   "nbconvert_exporter": "python",
   "pygments_lexer": "ipython3",
   "version": "3.10.11"
  }
 },
 "nbformat": 4,
 "nbformat_minor": 5
}
